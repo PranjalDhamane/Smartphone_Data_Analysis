{
 "cells": [
  {
   "cell_type": "code",
   "execution_count": 53,
   "id": "6bbda778",
   "metadata": {},
   "outputs": [],
   "source": [
    "import pandas as pd\n",
    "import numpy as np\n",
    "import matplotlib.pyplot as plt\n",
    "import seaborn as sns"
   ]
  },
  {
   "cell_type": "code",
   "execution_count": 54,
   "id": "be665732",
   "metadata": {},
   "outputs": [],
   "source": [
    "df = pd.read_csv(\"Smartphone.csv\")"
   ]
  },
  {
   "cell_type": "code",
   "execution_count": 55,
   "id": "8a317070",
   "metadata": {},
   "outputs": [
    {
     "data": {
      "text/html": [
       "<div>\n",
       "<style scoped>\n",
       "    .dataframe tbody tr th:only-of-type {\n",
       "        vertical-align: middle;\n",
       "    }\n",
       "\n",
       "    .dataframe tbody tr th {\n",
       "        vertical-align: top;\n",
       "    }\n",
       "\n",
       "    .dataframe thead th {\n",
       "        text-align: right;\n",
       "    }\n",
       "</style>\n",
       "<table border=\"1\" class=\"dataframe\">\n",
       "  <thead>\n",
       "    <tr style=\"text-align: right;\">\n",
       "      <th></th>\n",
       "      <th>Brand</th>\n",
       "      <th>Name</th>\n",
       "      <th>MRP</th>\n",
       "      <th>Discount_Price</th>\n",
       "      <th>Reviews</th>\n",
       "      <th>Discount_percentage</th>\n",
       "    </tr>\n",
       "  </thead>\n",
       "  <tbody>\n",
       "    <tr>\n",
       "      <th>0</th>\n",
       "      <td>Apple</td>\n",
       "      <td>APPLE iPhone 12 (Blue, 64 GB)</td>\n",
       "      <td>₹49,900</td>\n",
       "      <td>₹40,999</td>\n",
       "      <td>4.6</td>\n",
       "      <td>17% off</td>\n",
       "    </tr>\n",
       "    <tr>\n",
       "      <th>1</th>\n",
       "      <td>Apple</td>\n",
       "      <td>APPLE iPhone 12 (Black, 64 GB)</td>\n",
       "      <td>₹49,900</td>\n",
       "      <td>₹40,999</td>\n",
       "      <td>4.6</td>\n",
       "      <td>17% off</td>\n",
       "    </tr>\n",
       "    <tr>\n",
       "      <th>2</th>\n",
       "      <td>Apple</td>\n",
       "      <td>APPLE iPhone 12 (Blue, 128 GB)</td>\n",
       "      <td>₹54,900</td>\n",
       "      <td>₹46,999</td>\n",
       "      <td>4.6</td>\n",
       "      <td>14% off</td>\n",
       "    </tr>\n",
       "    <tr>\n",
       "      <th>3</th>\n",
       "      <td>Apple</td>\n",
       "      <td>APPLE iPhone 14 (Blue, 128 GB)</td>\n",
       "      <td>₹69,900</td>\n",
       "      <td>₹60,999</td>\n",
       "      <td>4.6</td>\n",
       "      <td>12% off</td>\n",
       "    </tr>\n",
       "    <tr>\n",
       "      <th>4</th>\n",
       "      <td>Apple</td>\n",
       "      <td>APPLE iPhone 12 (White, 64 GB)</td>\n",
       "      <td>₹49,900</td>\n",
       "      <td>₹41,999</td>\n",
       "      <td>4.6</td>\n",
       "      <td>15% off</td>\n",
       "    </tr>\n",
       "  </tbody>\n",
       "</table>\n",
       "</div>"
      ],
      "text/plain": [
       "   Brand                            Name      MRP Discount_Price  Reviews  \\\n",
       "0  Apple   APPLE iPhone 12 (Blue, 64 GB)  ₹49,900        ₹40,999      4.6   \n",
       "1  Apple  APPLE iPhone 12 (Black, 64 GB)  ₹49,900        ₹40,999      4.6   \n",
       "2  Apple  APPLE iPhone 12 (Blue, 128 GB)  ₹54,900        ₹46,999      4.6   \n",
       "3  Apple  APPLE iPhone 14 (Blue, 128 GB)  ₹69,900        ₹60,999      4.6   \n",
       "4  Apple  APPLE iPhone 12 (White, 64 GB)  ₹49,900        ₹41,999      4.6   \n",
       "\n",
       "  Discount_percentage  \n",
       "0             17% off  \n",
       "1             17% off  \n",
       "2             14% off  \n",
       "3             12% off  \n",
       "4             15% off  "
      ]
     },
     "execution_count": 55,
     "metadata": {},
     "output_type": "execute_result"
    }
   ],
   "source": [
    "df.head()"
   ]
  },
  {
   "cell_type": "code",
   "execution_count": 56,
   "id": "5933a8e4",
   "metadata": {},
   "outputs": [
    {
     "data": {
      "text/html": [
       "<div>\n",
       "<style scoped>\n",
       "    .dataframe tbody tr th:only-of-type {\n",
       "        vertical-align: middle;\n",
       "    }\n",
       "\n",
       "    .dataframe tbody tr th {\n",
       "        vertical-align: top;\n",
       "    }\n",
       "\n",
       "    .dataframe thead th {\n",
       "        text-align: right;\n",
       "    }\n",
       "</style>\n",
       "<table border=\"1\" class=\"dataframe\">\n",
       "  <thead>\n",
       "    <tr style=\"text-align: right;\">\n",
       "      <th></th>\n",
       "      <th>Brand</th>\n",
       "      <th>Name</th>\n",
       "      <th>MRP</th>\n",
       "      <th>Discount_Price</th>\n",
       "      <th>Reviews</th>\n",
       "      <th>Discount_percentage</th>\n",
       "    </tr>\n",
       "  </thead>\n",
       "  <tbody>\n",
       "    <tr>\n",
       "      <th>131</th>\n",
       "      <td>Google</td>\n",
       "      <td>Google Pixel 8 (Hazel, 128 GB)</td>\n",
       "      <td>₹43,999</td>\n",
       "      <td>₹75,999</td>\n",
       "      <td>4.3</td>\n",
       "      <td>13% off</td>\n",
       "    </tr>\n",
       "    <tr>\n",
       "      <th>132</th>\n",
       "      <td>Google</td>\n",
       "      <td>Google Pixel 7 Pro (Hazel, 128 GB)</td>\n",
       "      <td>₹43,999</td>\n",
       "      <td>₹60,999</td>\n",
       "      <td>4.3</td>\n",
       "      <td>36% off</td>\n",
       "    </tr>\n",
       "    <tr>\n",
       "      <th>133</th>\n",
       "      <td>Google</td>\n",
       "      <td>Google Pixel 7 Pro (Obsidian, 128 GB)</td>\n",
       "      <td>₹22,999</td>\n",
       "      <td>₹60,999</td>\n",
       "      <td>4.3</td>\n",
       "      <td>6% off</td>\n",
       "    </tr>\n",
       "    <tr>\n",
       "      <th>134</th>\n",
       "      <td>Google</td>\n",
       "      <td>Google Pixel 6a (Charcoal, 128 GB)</td>\n",
       "      <td>₹24,999</td>\n",
       "      <td>₹27,999</td>\n",
       "      <td>4.3</td>\n",
       "      <td>9% off</td>\n",
       "    </tr>\n",
       "    <tr>\n",
       "      <th>135</th>\n",
       "      <td>Google</td>\n",
       "      <td>Google Pixel 7a (Coral, 128 GB)</td>\n",
       "      <td>₹21,999</td>\n",
       "      <td>₹37,999</td>\n",
       "      <td>4.1</td>\n",
       "      <td>22% off</td>\n",
       "    </tr>\n",
       "  </tbody>\n",
       "</table>\n",
       "</div>"
      ],
      "text/plain": [
       "      Brand                                   Name      MRP Discount_Price  \\\n",
       "131  Google         Google Pixel 8 (Hazel, 128 GB)  ₹43,999        ₹75,999   \n",
       "132  Google     Google Pixel 7 Pro (Hazel, 128 GB)  ₹43,999        ₹60,999   \n",
       "133  Google  Google Pixel 7 Pro (Obsidian, 128 GB)  ₹22,999        ₹60,999   \n",
       "134  Google     Google Pixel 6a (Charcoal, 128 GB)  ₹24,999        ₹27,999   \n",
       "135  Google        Google Pixel 7a (Coral, 128 GB)  ₹21,999        ₹37,999   \n",
       "\n",
       "     Reviews Discount_percentage  \n",
       "131      4.3             13% off  \n",
       "132      4.3             36% off  \n",
       "133      4.3              6% off  \n",
       "134      4.3              9% off  \n",
       "135      4.1             22% off  "
      ]
     },
     "execution_count": 56,
     "metadata": {},
     "output_type": "execute_result"
    }
   ],
   "source": [
    "df.tail()"
   ]
  },
  {
   "cell_type": "code",
   "execution_count": 57,
   "id": "50f75d39",
   "metadata": {},
   "outputs": [
    {
     "name": "stdout",
     "output_type": "stream",
     "text": [
      "<class 'pandas.core.frame.DataFrame'>\n",
      "RangeIndex: 136 entries, 0 to 135\n",
      "Data columns (total 6 columns):\n",
      " #   Column               Non-Null Count  Dtype  \n",
      "---  ------               --------------  -----  \n",
      " 0   Brand                136 non-null    object \n",
      " 1   Name                 136 non-null    object \n",
      " 2   MRP                  136 non-null    object \n",
      " 3   Discount_Price       136 non-null    object \n",
      " 4   Reviews              136 non-null    float64\n",
      " 5   Discount_percentage  136 non-null    object \n",
      "dtypes: float64(1), object(5)\n",
      "memory usage: 6.5+ KB\n"
     ]
    }
   ],
   "source": [
    "df.info()"
   ]
  },
  {
   "cell_type": "code",
   "execution_count": 58,
   "id": "21f59ffb",
   "metadata": {},
   "outputs": [],
   "source": [
    "df[\"MRP\"] = df[\"MRP\"].str.replace(\"₹\",\"\")\n",
    "df[\"MRP\"] = df[\"MRP\"].str.replace(\",\",\"\")\n",
    "df[\"Discount_Price\"] = df[\"Discount_Price\"].str.replace(\"₹\",\"\")\n",
    "df[\"Discount_Price\"] = df[\"Discount_Price\"].str.replace(\",\",\"\")"
   ]
  },
  {
   "cell_type": "code",
   "execution_count": 59,
   "id": "4a94161b",
   "metadata": {},
   "outputs": [
    {
     "data": {
      "text/html": [
       "<div>\n",
       "<style scoped>\n",
       "    .dataframe tbody tr th:only-of-type {\n",
       "        vertical-align: middle;\n",
       "    }\n",
       "\n",
       "    .dataframe tbody tr th {\n",
       "        vertical-align: top;\n",
       "    }\n",
       "\n",
       "    .dataframe thead th {\n",
       "        text-align: right;\n",
       "    }\n",
       "</style>\n",
       "<table border=\"1\" class=\"dataframe\">\n",
       "  <thead>\n",
       "    <tr style=\"text-align: right;\">\n",
       "      <th></th>\n",
       "      <th>Brand</th>\n",
       "      <th>Name</th>\n",
       "      <th>MRP</th>\n",
       "      <th>Discount_Price</th>\n",
       "      <th>Reviews</th>\n",
       "      <th>Discount_percentage</th>\n",
       "    </tr>\n",
       "  </thead>\n",
       "  <tbody>\n",
       "    <tr>\n",
       "      <th>0</th>\n",
       "      <td>Apple</td>\n",
       "      <td>APPLE iPhone 12 (Blue, 64 GB)</td>\n",
       "      <td>49900</td>\n",
       "      <td>40999</td>\n",
       "      <td>4.6</td>\n",
       "      <td>17% off</td>\n",
       "    </tr>\n",
       "    <tr>\n",
       "      <th>1</th>\n",
       "      <td>Apple</td>\n",
       "      <td>APPLE iPhone 12 (Black, 64 GB)</td>\n",
       "      <td>49900</td>\n",
       "      <td>40999</td>\n",
       "      <td>4.6</td>\n",
       "      <td>17% off</td>\n",
       "    </tr>\n",
       "    <tr>\n",
       "      <th>2</th>\n",
       "      <td>Apple</td>\n",
       "      <td>APPLE iPhone 12 (Blue, 128 GB)</td>\n",
       "      <td>54900</td>\n",
       "      <td>46999</td>\n",
       "      <td>4.6</td>\n",
       "      <td>14% off</td>\n",
       "    </tr>\n",
       "    <tr>\n",
       "      <th>3</th>\n",
       "      <td>Apple</td>\n",
       "      <td>APPLE iPhone 14 (Blue, 128 GB)</td>\n",
       "      <td>69900</td>\n",
       "      <td>60999</td>\n",
       "      <td>4.6</td>\n",
       "      <td>12% off</td>\n",
       "    </tr>\n",
       "    <tr>\n",
       "      <th>4</th>\n",
       "      <td>Apple</td>\n",
       "      <td>APPLE iPhone 12 (White, 64 GB)</td>\n",
       "      <td>49900</td>\n",
       "      <td>41999</td>\n",
       "      <td>4.6</td>\n",
       "      <td>15% off</td>\n",
       "    </tr>\n",
       "  </tbody>\n",
       "</table>\n",
       "</div>"
      ],
      "text/plain": [
       "   Brand                            Name    MRP Discount_Price  Reviews  \\\n",
       "0  Apple   APPLE iPhone 12 (Blue, 64 GB)  49900          40999      4.6   \n",
       "1  Apple  APPLE iPhone 12 (Black, 64 GB)  49900          40999      4.6   \n",
       "2  Apple  APPLE iPhone 12 (Blue, 128 GB)  54900          46999      4.6   \n",
       "3  Apple  APPLE iPhone 14 (Blue, 128 GB)  69900          60999      4.6   \n",
       "4  Apple  APPLE iPhone 12 (White, 64 GB)  49900          41999      4.6   \n",
       "\n",
       "  Discount_percentage  \n",
       "0             17% off  \n",
       "1             17% off  \n",
       "2             14% off  \n",
       "3             12% off  \n",
       "4             15% off  "
      ]
     },
     "execution_count": 59,
     "metadata": {},
     "output_type": "execute_result"
    }
   ],
   "source": [
    "df.head()"
   ]
  },
  {
   "cell_type": "code",
   "execution_count": 60,
   "id": "b4345b27",
   "metadata": {},
   "outputs": [
    {
     "data": {
      "text/plain": [
       "0      40999\n",
       "1      40999\n",
       "2      46999\n",
       "3      60999\n",
       "4      41999\n",
       "       ...  \n",
       "131    75999\n",
       "132    60999\n",
       "133    60999\n",
       "134    27999\n",
       "135    37999\n",
       "Name: Discount_Price, Length: 136, dtype: int64"
      ]
     },
     "execution_count": 60,
     "metadata": {},
     "output_type": "execute_result"
    }
   ],
   "source": [
    "pd.to_numeric(df[\"MRP\"])\n",
    "pd.to_numeric(df[\"Discount_Price\"])"
   ]
  },
  {
   "cell_type": "code",
   "execution_count": null,
   "id": "9857fe49",
   "metadata": {},
   "outputs": [],
   "source": []
  },
  {
   "cell_type": "code",
   "execution_count": null,
   "id": "6e030257",
   "metadata": {},
   "outputs": [],
   "source": []
  },
  {
   "cell_type": "code",
   "execution_count": null,
   "id": "5d64fd5e",
   "metadata": {},
   "outputs": [],
   "source": []
  }
 ],
 "metadata": {
  "kernelspec": {
   "display_name": "Python 3 (ipykernel)",
   "language": "python",
   "name": "python3"
  },
  "language_info": {
   "codemirror_mode": {
    "name": "ipython",
    "version": 3
   },
   "file_extension": ".py",
   "mimetype": "text/x-python",
   "name": "python",
   "nbconvert_exporter": "python",
   "pygments_lexer": "ipython3",
   "version": "3.9.13"
  }
 },
 "nbformat": 4,
 "nbformat_minor": 5
}
